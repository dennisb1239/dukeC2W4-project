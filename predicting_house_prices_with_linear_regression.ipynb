{
  "cells": [
    {
      "cell_type": "markdown",
      "metadata": {
        "id": "view-in-github",
        "colab_type": "text"
      },
      "source": [
        "<a href=\"https://colab.research.google.com/github/dennisb1239/dukeC2W4-project/blob/master/predicting_house_prices_with_linear_regression.ipynb\" target=\"_parent\"><img src=\"https://colab.research.google.com/assets/colab-badge.svg\" alt=\"Open In Colab\"/></a>"
      ]
    },
    {
      "cell_type": "markdown",
      "metadata": {
        "_cell_guid": "b1076dfc-b9ad-4769-8c92-a6c4dae69d19",
        "_uuid": "8f2839f25d086af736a60e9eeb907d3b93b6e0e5",
        "id": "bXbbtN-Jdt7O"
      },
      "source": [
        "# Linear Regression Model for Predicting House Prices"
      ]
    },
    {
      "cell_type": "markdown",
      "metadata": {
        "id": "yvhgNegAdt7S"
      },
      "source": [
        "This Kaggle dataset consists of roughly 3,000 property listings (observations), each with 79 property attributes, and our target, sale price. The goal is to use EDA, data cleaning, preprocessing and linear model to predict home prices given the features of the home. I will follow these steps to a successful submission:\n",
        "\n",
        "1. Exploratory Data Analysis\n",
        "1. Data Preprocessing\n",
        "    1. Fixing Skewness and Outliers\n",
        "    1. Encoding Categorical Data\n",
        "    1. Imputing Missing Values\n",
        "1. Modelling\n",
        "1. Submission"
      ]
    },
    {
      "cell_type": "code",
      "execution_count": 1,
      "metadata": {
        "execution": {
          "iopub.execute_input": "2021-06-10T05:34:40.093664Z",
          "iopub.status.busy": "2021-06-10T05:34:40.09323Z",
          "iopub.status.idle": "2021-06-10T05:34:41.191591Z",
          "shell.execute_reply": "2021-06-10T05:34:41.190579Z",
          "shell.execute_reply.started": "2021-06-10T05:34:40.093577Z"
        },
        "trusted": true,
        "id": "_i_Bfcdqdt7T"
      },
      "outputs": [],
      "source": [
        "import numpy as np \n",
        "import pandas as pd\n",
        "import seaborn as sns\n",
        "from math import sqrt\n",
        "from scipy.stats import skew\n",
        "import matplotlib.pyplot as plt\n",
        "from sklearn import linear_model\n",
        "from sklearn import preprocessing\n",
        "from sklearn.model_selection import train_test_split\n",
        "from sklearn.metrics import mean_absolute_error, mean_squared_error"
      ]
    },
    {
      "cell_type": "code",
      "execution_count": 2,
      "metadata": {
        "execution": {
          "iopub.execute_input": "2021-06-10T05:34:41.193529Z",
          "iopub.status.busy": "2021-06-10T05:34:41.19314Z",
          "iopub.status.idle": "2021-06-10T05:34:41.198287Z",
          "shell.execute_reply": "2021-06-10T05:34:41.197225Z",
          "shell.execute_reply.started": "2021-06-10T05:34:41.193497Z"
        },
        "trusted": true,
        "id": "WKrdZoDidt7V"
      },
      "outputs": [],
      "source": [
        "plt.style.use(style='fivethirtyeight')\n",
        "plt.rcParams['figure.figsize'] = (10, 6)"
      ]
    },
    {
      "cell_type": "markdown",
      "metadata": {
        "id": "wcKZCwWudt7W"
      },
      "source": [
        "# Exploratory Data Analysis"
      ]
    },
    {
      "cell_type": "markdown",
      "metadata": {
        "id": "T4iU-BqFdt7X"
      },
      "source": [
        "In this initial investigations on data will be performed to to develop an understanding of the data, discover patterns and spot anomalies."
      ]
    },
    {
      "cell_type": "code",
      "execution_count": 3,
      "metadata": {
        "execution": {
          "iopub.execute_input": "2021-06-10T05:34:41.200386Z",
          "iopub.status.busy": "2021-06-10T05:34:41.19997Z",
          "iopub.status.idle": "2021-06-10T05:34:41.292942Z",
          "shell.execute_reply": "2021-06-10T05:34:41.291766Z",
          "shell.execute_reply.started": "2021-06-10T05:34:41.200353Z"
        },
        "trusted": true,
        "id": "Um6-0rendt7Y"
      },
      "outputs": [],
      "source": [
        "# load the datasets into dataframe\n",
        "train = pd.read_csv('train.csv')\n",
        "test = pd.read_csv('test.csv')"
      ]
    },
    {
      "cell_type": "code",
      "execution_count": 4,
      "metadata": {
        "execution": {
          "iopub.execute_input": "2021-06-10T05:34:41.444781Z",
          "iopub.status.busy": "2021-06-10T05:34:41.444446Z",
          "iopub.status.idle": "2021-06-10T05:34:41.489864Z",
          "shell.execute_reply": "2021-06-10T05:34:41.488699Z",
          "shell.execute_reply.started": "2021-06-10T05:34:41.444752Z"
        },
        "trusted": true,
        "colab": {
          "base_uri": "https://localhost:8080/",
          "height": 256
        },
        "id": "tKBUQrKGdt7Y",
        "outputId": "20d04022-252d-447b-8e9a-656ea0e4e6c0"
      },
      "outputs": [
        {
          "output_type": "execute_result",
          "data": {
            "text/html": [
              "<div>\n",
              "<style scoped>\n",
              "    .dataframe tbody tr th:only-of-type {\n",
              "        vertical-align: middle;\n",
              "    }\n",
              "\n",
              "    .dataframe tbody tr th {\n",
              "        vertical-align: top;\n",
              "    }\n",
              "\n",
              "    .dataframe thead th {\n",
              "        text-align: right;\n",
              "    }\n",
              "</style>\n",
              "<table border=\"1\" class=\"dataframe\">\n",
              "  <thead>\n",
              "    <tr style=\"text-align: right;\">\n",
              "      <th></th>\n",
              "      <th>Id</th>\n",
              "      <th>MSSubClass</th>\n",
              "      <th>MSZoning</th>\n",
              "      <th>LotFrontage</th>\n",
              "      <th>LotArea</th>\n",
              "      <th>Street</th>\n",
              "      <th>Alley</th>\n",
              "      <th>LotShape</th>\n",
              "      <th>LandContour</th>\n",
              "      <th>Utilities</th>\n",
              "      <th>LotConfig</th>\n",
              "      <th>LandSlope</th>\n",
              "      <th>Neighborhood</th>\n",
              "      <th>Condition1</th>\n",
              "      <th>Condition2</th>\n",
              "      <th>BldgType</th>\n",
              "      <th>HouseStyle</th>\n",
              "      <th>OverallQual</th>\n",
              "      <th>OverallCond</th>\n",
              "      <th>YearBuilt</th>\n",
              "      <th>YearRemodAdd</th>\n",
              "      <th>RoofStyle</th>\n",
              "      <th>RoofMatl</th>\n",
              "      <th>Exterior1st</th>\n",
              "      <th>Exterior2nd</th>\n",
              "      <th>MasVnrType</th>\n",
              "      <th>MasVnrArea</th>\n",
              "      <th>ExterQual</th>\n",
              "      <th>ExterCond</th>\n",
              "      <th>Foundation</th>\n",
              "      <th>BsmtQual</th>\n",
              "      <th>BsmtCond</th>\n",
              "      <th>BsmtExposure</th>\n",
              "      <th>BsmtFinType1</th>\n",
              "      <th>BsmtFinSF1</th>\n",
              "      <th>BsmtFinType2</th>\n",
              "      <th>BsmtFinSF2</th>\n",
              "      <th>BsmtUnfSF</th>\n",
              "      <th>TotalBsmtSF</th>\n",
              "      <th>Heating</th>\n",
              "      <th>...</th>\n",
              "      <th>CentralAir</th>\n",
              "      <th>Electrical</th>\n",
              "      <th>1stFlrSF</th>\n",
              "      <th>2ndFlrSF</th>\n",
              "      <th>LowQualFinSF</th>\n",
              "      <th>GrLivArea</th>\n",
              "      <th>BsmtFullBath</th>\n",
              "      <th>BsmtHalfBath</th>\n",
              "      <th>FullBath</th>\n",
              "      <th>HalfBath</th>\n",
              "      <th>BedroomAbvGr</th>\n",
              "      <th>KitchenAbvGr</th>\n",
              "      <th>KitchenQual</th>\n",
              "      <th>TotRmsAbvGrd</th>\n",
              "      <th>Functional</th>\n",
              "      <th>Fireplaces</th>\n",
              "      <th>FireplaceQu</th>\n",
              "      <th>GarageType</th>\n",
              "      <th>GarageYrBlt</th>\n",
              "      <th>GarageFinish</th>\n",
              "      <th>GarageCars</th>\n",
              "      <th>GarageArea</th>\n",
              "      <th>GarageQual</th>\n",
              "      <th>GarageCond</th>\n",
              "      <th>PavedDrive</th>\n",
              "      <th>WoodDeckSF</th>\n",
              "      <th>OpenPorchSF</th>\n",
              "      <th>EnclosedPorch</th>\n",
              "      <th>3SsnPorch</th>\n",
              "      <th>ScreenPorch</th>\n",
              "      <th>PoolArea</th>\n",
              "      <th>PoolQC</th>\n",
              "      <th>Fence</th>\n",
              "      <th>MiscFeature</th>\n",
              "      <th>MiscVal</th>\n",
              "      <th>MoSold</th>\n",
              "      <th>YrSold</th>\n",
              "      <th>SaleType</th>\n",
              "      <th>SaleCondition</th>\n",
              "      <th>SalePrice</th>\n",
              "    </tr>\n",
              "  </thead>\n",
              "  <tbody>\n",
              "    <tr>\n",
              "      <th>0</th>\n",
              "      <td>1</td>\n",
              "      <td>60</td>\n",
              "      <td>RL</td>\n",
              "      <td>65.0</td>\n",
              "      <td>8450</td>\n",
              "      <td>Pave</td>\n",
              "      <td>NaN</td>\n",
              "      <td>Reg</td>\n",
              "      <td>Lvl</td>\n",
              "      <td>AllPub</td>\n",
              "      <td>Inside</td>\n",
              "      <td>Gtl</td>\n",
              "      <td>CollgCr</td>\n",
              "      <td>Norm</td>\n",
              "      <td>Norm</td>\n",
              "      <td>1Fam</td>\n",
              "      <td>2Story</td>\n",
              "      <td>7</td>\n",
              "      <td>5</td>\n",
              "      <td>2003</td>\n",
              "      <td>2003</td>\n",
              "      <td>Gable</td>\n",
              "      <td>CompShg</td>\n",
              "      <td>VinylSd</td>\n",
              "      <td>VinylSd</td>\n",
              "      <td>BrkFace</td>\n",
              "      <td>196.0</td>\n",
              "      <td>Gd</td>\n",
              "      <td>TA</td>\n",
              "      <td>PConc</td>\n",
              "      <td>Gd</td>\n",
              "      <td>TA</td>\n",
              "      <td>No</td>\n",
              "      <td>GLQ</td>\n",
              "      <td>706</td>\n",
              "      <td>Unf</td>\n",
              "      <td>0</td>\n",
              "      <td>150</td>\n",
              "      <td>856</td>\n",
              "      <td>GasA</td>\n",
              "      <td>...</td>\n",
              "      <td>Y</td>\n",
              "      <td>SBrkr</td>\n",
              "      <td>856</td>\n",
              "      <td>854</td>\n",
              "      <td>0</td>\n",
              "      <td>1710</td>\n",
              "      <td>1</td>\n",
              "      <td>0</td>\n",
              "      <td>2</td>\n",
              "      <td>1</td>\n",
              "      <td>3</td>\n",
              "      <td>1</td>\n",
              "      <td>Gd</td>\n",
              "      <td>8</td>\n",
              "      <td>Typ</td>\n",
              "      <td>0</td>\n",
              "      <td>NaN</td>\n",
              "      <td>Attchd</td>\n",
              "      <td>2003.0</td>\n",
              "      <td>RFn</td>\n",
              "      <td>2</td>\n",
              "      <td>548</td>\n",
              "      <td>TA</td>\n",
              "      <td>TA</td>\n",
              "      <td>Y</td>\n",
              "      <td>0</td>\n",
              "      <td>61</td>\n",
              "      <td>0</td>\n",
              "      <td>0</td>\n",
              "      <td>0</td>\n",
              "      <td>0</td>\n",
              "      <td>NaN</td>\n",
              "      <td>NaN</td>\n",
              "      <td>NaN</td>\n",
              "      <td>0</td>\n",
              "      <td>2</td>\n",
              "      <td>2008</td>\n",
              "      <td>WD</td>\n",
              "      <td>Normal</td>\n",
              "      <td>208500</td>\n",
              "    </tr>\n",
              "    <tr>\n",
              "      <th>1</th>\n",
              "      <td>2</td>\n",
              "      <td>20</td>\n",
              "      <td>RL</td>\n",
              "      <td>80.0</td>\n",
              "      <td>9600</td>\n",
              "      <td>Pave</td>\n",
              "      <td>NaN</td>\n",
              "      <td>Reg</td>\n",
              "      <td>Lvl</td>\n",
              "      <td>AllPub</td>\n",
              "      <td>FR2</td>\n",
              "      <td>Gtl</td>\n",
              "      <td>Veenker</td>\n",
              "      <td>Feedr</td>\n",
              "      <td>Norm</td>\n",
              "      <td>1Fam</td>\n",
              "      <td>1Story</td>\n",
              "      <td>6</td>\n",
              "      <td>8</td>\n",
              "      <td>1976</td>\n",
              "      <td>1976</td>\n",
              "      <td>Gable</td>\n",
              "      <td>CompShg</td>\n",
              "      <td>MetalSd</td>\n",
              "      <td>MetalSd</td>\n",
              "      <td>None</td>\n",
              "      <td>0.0</td>\n",
              "      <td>TA</td>\n",
              "      <td>TA</td>\n",
              "      <td>CBlock</td>\n",
              "      <td>Gd</td>\n",
              "      <td>TA</td>\n",
              "      <td>Gd</td>\n",
              "      <td>ALQ</td>\n",
              "      <td>978</td>\n",
              "      <td>Unf</td>\n",
              "      <td>0</td>\n",
              "      <td>284</td>\n",
              "      <td>1262</td>\n",
              "      <td>GasA</td>\n",
              "      <td>...</td>\n",
              "      <td>Y</td>\n",
              "      <td>SBrkr</td>\n",
              "      <td>1262</td>\n",
              "      <td>0</td>\n",
              "      <td>0</td>\n",
              "      <td>1262</td>\n",
              "      <td>0</td>\n",
              "      <td>1</td>\n",
              "      <td>2</td>\n",
              "      <td>0</td>\n",
              "      <td>3</td>\n",
              "      <td>1</td>\n",
              "      <td>TA</td>\n",
              "      <td>6</td>\n",
              "      <td>Typ</td>\n",
              "      <td>1</td>\n",
              "      <td>TA</td>\n",
              "      <td>Attchd</td>\n",
              "      <td>1976.0</td>\n",
              "      <td>RFn</td>\n",
              "      <td>2</td>\n",
              "      <td>460</td>\n",
              "      <td>TA</td>\n",
              "      <td>TA</td>\n",
              "      <td>Y</td>\n",
              "      <td>298</td>\n",
              "      <td>0</td>\n",
              "      <td>0</td>\n",
              "      <td>0</td>\n",
              "      <td>0</td>\n",
              "      <td>0</td>\n",
              "      <td>NaN</td>\n",
              "      <td>NaN</td>\n",
              "      <td>NaN</td>\n",
              "      <td>0</td>\n",
              "      <td>5</td>\n",
              "      <td>2007</td>\n",
              "      <td>WD</td>\n",
              "      <td>Normal</td>\n",
              "      <td>181500</td>\n",
              "    </tr>\n",
              "    <tr>\n",
              "      <th>2</th>\n",
              "      <td>3</td>\n",
              "      <td>60</td>\n",
              "      <td>RL</td>\n",
              "      <td>68.0</td>\n",
              "      <td>11250</td>\n",
              "      <td>Pave</td>\n",
              "      <td>NaN</td>\n",
              "      <td>IR1</td>\n",
              "      <td>Lvl</td>\n",
              "      <td>AllPub</td>\n",
              "      <td>Inside</td>\n",
              "      <td>Gtl</td>\n",
              "      <td>CollgCr</td>\n",
              "      <td>Norm</td>\n",
              "      <td>Norm</td>\n",
              "      <td>1Fam</td>\n",
              "      <td>2Story</td>\n",
              "      <td>7</td>\n",
              "      <td>5</td>\n",
              "      <td>2001</td>\n",
              "      <td>2002</td>\n",
              "      <td>Gable</td>\n",
              "      <td>CompShg</td>\n",
              "      <td>VinylSd</td>\n",
              "      <td>VinylSd</td>\n",
              "      <td>BrkFace</td>\n",
              "      <td>162.0</td>\n",
              "      <td>Gd</td>\n",
              "      <td>TA</td>\n",
              "      <td>PConc</td>\n",
              "      <td>Gd</td>\n",
              "      <td>TA</td>\n",
              "      <td>Mn</td>\n",
              "      <td>GLQ</td>\n",
              "      <td>486</td>\n",
              "      <td>Unf</td>\n",
              "      <td>0</td>\n",
              "      <td>434</td>\n",
              "      <td>920</td>\n",
              "      <td>GasA</td>\n",
              "      <td>...</td>\n",
              "      <td>Y</td>\n",
              "      <td>SBrkr</td>\n",
              "      <td>920</td>\n",
              "      <td>866</td>\n",
              "      <td>0</td>\n",
              "      <td>1786</td>\n",
              "      <td>1</td>\n",
              "      <td>0</td>\n",
              "      <td>2</td>\n",
              "      <td>1</td>\n",
              "      <td>3</td>\n",
              "      <td>1</td>\n",
              "      <td>Gd</td>\n",
              "      <td>6</td>\n",
              "      <td>Typ</td>\n",
              "      <td>1</td>\n",
              "      <td>TA</td>\n",
              "      <td>Attchd</td>\n",
              "      <td>2001.0</td>\n",
              "      <td>RFn</td>\n",
              "      <td>2</td>\n",
              "      <td>608</td>\n",
              "      <td>TA</td>\n",
              "      <td>TA</td>\n",
              "      <td>Y</td>\n",
              "      <td>0</td>\n",
              "      <td>42</td>\n",
              "      <td>0</td>\n",
              "      <td>0</td>\n",
              "      <td>0</td>\n",
              "      <td>0</td>\n",
              "      <td>NaN</td>\n",
              "      <td>NaN</td>\n",
              "      <td>NaN</td>\n",
              "      <td>0</td>\n",
              "      <td>9</td>\n",
              "      <td>2008</td>\n",
              "      <td>WD</td>\n",
              "      <td>Normal</td>\n",
              "      <td>223500</td>\n",
              "    </tr>\n",
              "    <tr>\n",
              "      <th>3</th>\n",
              "      <td>4</td>\n",
              "      <td>70</td>\n",
              "      <td>RL</td>\n",
              "      <td>60.0</td>\n",
              "      <td>9550</td>\n",
              "      <td>Pave</td>\n",
              "      <td>NaN</td>\n",
              "      <td>IR1</td>\n",
              "      <td>Lvl</td>\n",
              "      <td>AllPub</td>\n",
              "      <td>Corner</td>\n",
              "      <td>Gtl</td>\n",
              "      <td>Crawfor</td>\n",
              "      <td>Norm</td>\n",
              "      <td>Norm</td>\n",
              "      <td>1Fam</td>\n",
              "      <td>2Story</td>\n",
              "      <td>7</td>\n",
              "      <td>5</td>\n",
              "      <td>1915</td>\n",
              "      <td>1970</td>\n",
              "      <td>Gable</td>\n",
              "      <td>CompShg</td>\n",
              "      <td>Wd Sdng</td>\n",
              "      <td>Wd Shng</td>\n",
              "      <td>None</td>\n",
              "      <td>0.0</td>\n",
              "      <td>TA</td>\n",
              "      <td>TA</td>\n",
              "      <td>BrkTil</td>\n",
              "      <td>TA</td>\n",
              "      <td>Gd</td>\n",
              "      <td>No</td>\n",
              "      <td>ALQ</td>\n",
              "      <td>216</td>\n",
              "      <td>Unf</td>\n",
              "      <td>0</td>\n",
              "      <td>540</td>\n",
              "      <td>756</td>\n",
              "      <td>GasA</td>\n",
              "      <td>...</td>\n",
              "      <td>Y</td>\n",
              "      <td>SBrkr</td>\n",
              "      <td>961</td>\n",
              "      <td>756</td>\n",
              "      <td>0</td>\n",
              "      <td>1717</td>\n",
              "      <td>1</td>\n",
              "      <td>0</td>\n",
              "      <td>1</td>\n",
              "      <td>0</td>\n",
              "      <td>3</td>\n",
              "      <td>1</td>\n",
              "      <td>Gd</td>\n",
              "      <td>7</td>\n",
              "      <td>Typ</td>\n",
              "      <td>1</td>\n",
              "      <td>Gd</td>\n",
              "      <td>Detchd</td>\n",
              "      <td>1998.0</td>\n",
              "      <td>Unf</td>\n",
              "      <td>3</td>\n",
              "      <td>642</td>\n",
              "      <td>TA</td>\n",
              "      <td>TA</td>\n",
              "      <td>Y</td>\n",
              "      <td>0</td>\n",
              "      <td>35</td>\n",
              "      <td>272</td>\n",
              "      <td>0</td>\n",
              "      <td>0</td>\n",
              "      <td>0</td>\n",
              "      <td>NaN</td>\n",
              "      <td>NaN</td>\n",
              "      <td>NaN</td>\n",
              "      <td>0</td>\n",
              "      <td>2</td>\n",
              "      <td>2006</td>\n",
              "      <td>WD</td>\n",
              "      <td>Abnorml</td>\n",
              "      <td>140000</td>\n",
              "    </tr>\n",
              "    <tr>\n",
              "      <th>4</th>\n",
              "      <td>5</td>\n",
              "      <td>60</td>\n",
              "      <td>RL</td>\n",
              "      <td>84.0</td>\n",
              "      <td>14260</td>\n",
              "      <td>Pave</td>\n",
              "      <td>NaN</td>\n",
              "      <td>IR1</td>\n",
              "      <td>Lvl</td>\n",
              "      <td>AllPub</td>\n",
              "      <td>FR2</td>\n",
              "      <td>Gtl</td>\n",
              "      <td>NoRidge</td>\n",
              "      <td>Norm</td>\n",
              "      <td>Norm</td>\n",
              "      <td>1Fam</td>\n",
              "      <td>2Story</td>\n",
              "      <td>8</td>\n",
              "      <td>5</td>\n",
              "      <td>2000</td>\n",
              "      <td>2000</td>\n",
              "      <td>Gable</td>\n",
              "      <td>CompShg</td>\n",
              "      <td>VinylSd</td>\n",
              "      <td>VinylSd</td>\n",
              "      <td>BrkFace</td>\n",
              "      <td>350.0</td>\n",
              "      <td>Gd</td>\n",
              "      <td>TA</td>\n",
              "      <td>PConc</td>\n",
              "      <td>Gd</td>\n",
              "      <td>TA</td>\n",
              "      <td>Av</td>\n",
              "      <td>GLQ</td>\n",
              "      <td>655</td>\n",
              "      <td>Unf</td>\n",
              "      <td>0</td>\n",
              "      <td>490</td>\n",
              "      <td>1145</td>\n",
              "      <td>GasA</td>\n",
              "      <td>...</td>\n",
              "      <td>Y</td>\n",
              "      <td>SBrkr</td>\n",
              "      <td>1145</td>\n",
              "      <td>1053</td>\n",
              "      <td>0</td>\n",
              "      <td>2198</td>\n",
              "      <td>1</td>\n",
              "      <td>0</td>\n",
              "      <td>2</td>\n",
              "      <td>1</td>\n",
              "      <td>4</td>\n",
              "      <td>1</td>\n",
              "      <td>Gd</td>\n",
              "      <td>9</td>\n",
              "      <td>Typ</td>\n",
              "      <td>1</td>\n",
              "      <td>TA</td>\n",
              "      <td>Attchd</td>\n",
              "      <td>2000.0</td>\n",
              "      <td>RFn</td>\n",
              "      <td>3</td>\n",
              "      <td>836</td>\n",
              "      <td>TA</td>\n",
              "      <td>TA</td>\n",
              "      <td>Y</td>\n",
              "      <td>192</td>\n",
              "      <td>84</td>\n",
              "      <td>0</td>\n",
              "      <td>0</td>\n",
              "      <td>0</td>\n",
              "      <td>0</td>\n",
              "      <td>NaN</td>\n",
              "      <td>NaN</td>\n",
              "      <td>NaN</td>\n",
              "      <td>0</td>\n",
              "      <td>12</td>\n",
              "      <td>2008</td>\n",
              "      <td>WD</td>\n",
              "      <td>Normal</td>\n",
              "      <td>250000</td>\n",
              "    </tr>\n",
              "  </tbody>\n",
              "</table>\n",
              "<p>5 rows × 81 columns</p>\n",
              "</div>"
            ],
            "text/plain": [
              "   Id  MSSubClass MSZoning  ...  SaleType  SaleCondition SalePrice\n",
              "0   1          60       RL  ...        WD         Normal    208500\n",
              "1   2          20       RL  ...        WD         Normal    181500\n",
              "2   3          60       RL  ...        WD         Normal    223500\n",
              "3   4          70       RL  ...        WD        Abnorml    140000\n",
              "4   5          60       RL  ...        WD         Normal    250000\n",
              "\n",
              "[5 rows x 81 columns]"
            ]
          },
          "metadata": {},
          "execution_count": 4
        }
      ],
      "source": [
        "# show the first few records of train set\n",
        "train.head()"
      ]
    },
    {
      "cell_type": "code",
      "execution_count": 5,
      "metadata": {
        "execution": {
          "iopub.execute_input": "2021-06-10T05:34:41.96912Z",
          "iopub.status.busy": "2021-06-10T05:34:41.968768Z",
          "iopub.status.idle": "2021-06-10T05:34:41.975942Z",
          "shell.execute_reply": "2021-06-10T05:34:41.975135Z",
          "shell.execute_reply.started": "2021-06-10T05:34:41.969089Z"
        },
        "trusted": true,
        "colab": {
          "base_uri": "https://localhost:8080/"
        },
        "id": "SupknjBsdt7Z",
        "outputId": "5733c2e3-d5b4-4a1f-c459-03947b267a34"
      },
      "outputs": [
        {
          "output_type": "stream",
          "name": "stdout",
          "text": [
            "No. of records in train dataset:  1460\n",
            "No. of columns in train dataset:  81\n",
            "No. of records in test dataset:  1459\n",
            "No. of columns in test dataset:  80\n"
          ]
        }
      ],
      "source": [
        "# check the number of records and columns in both of datasets\n",
        "print('No. of records in train dataset: ', len(train.index))\n",
        "print('No. of columns in train dataset: ', len(train.columns))\n",
        "print('No. of records in test dataset: ', len(test.index))\n",
        "print('No. of columns in test dataset: ', len(test.columns))"
      ]
    },
    {
      "cell_type": "code",
      "execution_count": 6,
      "metadata": {
        "execution": {
          "iopub.execute_input": "2021-06-10T05:34:42.001786Z",
          "iopub.status.busy": "2021-06-10T05:34:42.001422Z",
          "iopub.status.idle": "2021-06-10T05:34:42.02508Z",
          "shell.execute_reply": "2021-06-10T05:34:42.024368Z",
          "shell.execute_reply.started": "2021-06-10T05:34:42.001756Z"
        },
        "trusted": true,
        "colab": {
          "base_uri": "https://localhost:8080/"
        },
        "id": "OphSmhYgdt7a",
        "outputId": "ef639865-1b94-4d42-803d-0736d9ed32c5"
      },
      "outputs": [
        {
          "output_type": "stream",
          "name": "stdout",
          "text": [
            "Total missing values in train set 6965\n",
            "Total missing values in test set 7000\n"
          ]
        }
      ],
      "source": [
        "# check the missing values\n",
        "print ('Total missing values in train set', sum(train.isna().sum()))\n",
        "print ('Total missing values in test set', sum(test.isna().sum()))"
      ]
    },
    {
      "cell_type": "code",
      "execution_count": 7,
      "metadata": {
        "execution": {
          "iopub.execute_input": "2021-06-10T05:34:42.317805Z",
          "iopub.status.busy": "2021-06-10T05:34:42.317444Z",
          "iopub.status.idle": "2021-06-10T05:34:42.339558Z",
          "shell.execute_reply": "2021-06-10T05:34:42.338607Z",
          "shell.execute_reply.started": "2021-06-10T05:34:42.317774Z"
        },
        "trusted": true,
        "colab": {
          "base_uri": "https://localhost:8080/"
        },
        "id": "Wnjs97H2dt7b",
        "outputId": "8a6fabb4-dfa9-41cc-a397-9ba2a783f081"
      },
      "outputs": [
        {
          "output_type": "stream",
          "name": "stdout",
          "text": [
            "Total missing values in train set 6965\n",
            "Total missing values in test set 7000\n"
          ]
        }
      ],
      "source": [
        "# check the missing values\n",
        "print ('Total missing values in train set', sum(train.isna().sum()))\n",
        "print ('Total missing values in test set', sum(test.isna().sum()))"
      ]
    },
    {
      "cell_type": "code",
      "execution_count": 8,
      "metadata": {
        "execution": {
          "iopub.execute_input": "2021-06-10T05:34:42.915767Z",
          "iopub.status.busy": "2021-06-10T05:34:42.9154Z",
          "iopub.status.idle": "2021-06-10T05:34:42.931967Z",
          "shell.execute_reply": "2021-06-10T05:34:42.930863Z",
          "shell.execute_reply.started": "2021-06-10T05:34:42.915733Z"
        },
        "trusted": true,
        "colab": {
          "base_uri": "https://localhost:8080/"
        },
        "id": "qx0z6C7Ndt7c",
        "outputId": "9af7705f-e537-42dc-a3a7-87e38f111d01"
      },
      "outputs": [
        {
          "output_type": "execute_result",
          "data": {
            "text/plain": [
              "count      1460.000000\n",
              "mean     180921.195890\n",
              "std       79442.502883\n",
              "min       34900.000000\n",
              "25%      129975.000000\n",
              "50%      163000.000000\n",
              "75%      214000.000000\n",
              "max      755000.000000\n",
              "Name: SalePrice, dtype: float64"
            ]
          },
          "metadata": {},
          "execution_count": 8
        }
      ],
      "source": [
        "train['SalePrice'].describe()"
      ]
    },
    {
      "cell_type": "markdown",
      "metadata": {
        "id": "sKWV7POOdt7d"
      },
      "source": [
        "The aobve line code shows that the average sale price of a house is close to 180,000 with most of the values falling within the 130,000 to 215,000 range. Next step is to show the relationship between the columns to examine the correlations between the features and the target."
      ]
    },
    {
      "cell_type": "code",
      "execution_count": 9,
      "metadata": {
        "execution": {
          "iopub.execute_input": "2021-06-10T05:34:43.383393Z",
          "iopub.status.busy": "2021-06-10T05:34:43.38305Z",
          "iopub.status.idle": "2021-06-10T05:34:43.408324Z",
          "shell.execute_reply": "2021-06-10T05:34:43.407156Z",
          "shell.execute_reply.started": "2021-06-10T05:34:43.383363Z"
        },
        "trusted": true,
        "colab": {
          "base_uri": "https://localhost:8080/"
        },
        "id": "IDIHxwzodt7d",
        "outputId": "e4a87ffb-f296-4ea8-8e1f-1206c8c962a3"
      },
      "outputs": [
        {
          "output_type": "stream",
          "name": "stdout",
          "text": [
            "The Most Correlated Features with SalePrice:\n",
            "SalePrice       1.000000\n",
            "OverallQual     0.790982\n",
            "GrLivArea       0.708624\n",
            "GarageCars      0.640409\n",
            "GarageArea      0.623431\n",
            "TotalBsmtSF     0.613581\n",
            "1stFlrSF        0.605852\n",
            "FullBath        0.560664\n",
            "TotRmsAbvGrd    0.533723\n",
            "YearBuilt       0.522897\n",
            "Name: SalePrice, dtype: float64 \n",
            "\n",
            "The Most Uncorrelated Features with SalePrice:\n",
            "YrSold          -0.028923\n",
            "OverallCond     -0.077856\n",
            "MSSubClass      -0.084284\n",
            "EnclosedPorch   -0.128578\n",
            "KitchenAbvGr    -0.135907\n",
            "Name: SalePrice, dtype: float64\n"
          ]
        },
        {
          "output_type": "execute_result",
          "data": {
            "text/plain": [
              "(None, None)"
            ]
          },
          "metadata": {},
          "execution_count": 9
        }
      ],
      "source": [
        "numeric_cols = train.select_dtypes(include = [np.number])\n",
        "corr = numeric_cols.corr()\n",
        "print ('The Most Correlated Features with SalePrice:'), print (corr['SalePrice'].sort_values(ascending = False)[:10], '\\n')\n",
        "print ('The Most Uncorrelated Features with SalePrice:'), print (corr['SalePrice'].sort_values(ascending = False)[-5:])"
      ]
    },
    {
      "cell_type": "markdown",
      "metadata": {
        "id": "rL69sJCDdt7d"
      },
      "source": [
        "The most correlated features to sale price were the overall quality score (79%), above-ground living area (71%), garage area (64%), and number-of-car garage (62%). Next step is to plot each variable individually against SalePrice in a scatter plot to check outliers as outliers can affect the regression model by pulling the estimated regression line further away from the true population regression line."
      ]
    },
    {
      "cell_type": "code",
      "execution_count": 10,
      "metadata": {
        "execution": {
          "iopub.execute_input": "2021-06-10T05:34:44.042784Z",
          "iopub.status.busy": "2021-06-10T05:34:44.0424Z",
          "iopub.status.idle": "2021-06-10T05:34:44.270981Z",
          "shell.execute_reply": "2021-06-10T05:34:44.269897Z",
          "shell.execute_reply.started": "2021-06-10T05:34:44.042752Z"
        },
        "trusted": true,
        "colab": {
          "base_uri": "https://localhost:8080/",
          "height": 439
        },
        "id": "-jfHQLJSdt7e",
        "outputId": "a182fe68-a873-4609-9a82-91d404767b1a"
      },
      "outputs": [
        {
          "output_type": "execute_result",
          "data": {
            "text/plain": [
              "Text(0.5, 0, 'GrLivArea (Above grade \"ground\" living area square feet)')"
            ]
          },
          "metadata": {},
          "execution_count": 10
        },
        {
          "output_type": "display_data",
          "data": {
            "image/png": "[encoded data removed]",
            "text/plain": [
              "<Figure size 720x432 with 1 Axes>"
            ]
          },
          "metadata": {}
        }
      ],
      "source": [
        "plt.scatter(x = train['GrLivArea'], y = train['SalePrice'])\n",
        "plt.ylabel('SalePrice')\n",
        "plt.xlabel('GrLivArea (Above grade \"ground\" living area square feet)')"
      ]
    },
    {
      "cell_type": "markdown",
      "metadata": {
        "id": "vKjnaNyndt7e"
      },
      "source": [
        "At first glance, there are increases in living area correspond to increases in price, with few outliers."
      ]
    },
    {
      "cell_type": "code",
      "execution_count": 11,
      "metadata": {
        "execution": {
          "iopub.execute_input": "2021-06-10T05:34:44.673896Z",
          "iopub.status.busy": "2021-06-10T05:34:44.673574Z",
          "iopub.status.idle": "2021-06-10T05:34:44.867232Z",
          "shell.execute_reply": "2021-06-10T05:34:44.866383Z",
          "shell.execute_reply.started": "2021-06-10T05:34:44.673869Z"
        },
        "trusted": true,
        "colab": {
          "base_uri": "https://localhost:8080/",
          "height": 439
        },
        "id": "7DMKTKa0dt7f",
        "outputId": "a75f6da4-ea6d-4336-f530-60a474e2a534"
      },
      "outputs": [
        {
          "output_type": "execute_result",
          "data": {
            "text/plain": [
              "Text(0.5, 0, 'GarageArea')"
            ]
          },
          "metadata": {},
          "execution_count": 11
        },
        {
          "output_type": "display_data",
          "data": {
            "image/png": "[encoded data removed]",
            "text/plain": [
              "<Figure size 720x432 with 1 Axes>"
            ]
          },
          "metadata": {}
        }
      ],
      "source": [
        "plt.scatter(x = train['GarageArea'], y = train['SalePrice'])\n",
        "plt.ylabel('SalePrice')\n",
        "plt.xlabel('GarageArea')"
      ]
    },
    {
      "cell_type": "markdown",
      "metadata": {
        "id": "8VxCvniwdt7f"
      },
      "source": [
        "So there are many homes with 0 for GarageArea and there are a few outliers as well!"
      ]
    },
    {
      "cell_type": "markdown",
      "metadata": {
        "id": "-r8ALRrsdt7f"
      },
      "source": [
        "# Data Preprocessing"
      ]
    },
    {
      "cell_type": "markdown",
      "metadata": {
        "id": "Di_z9yzSdt7g"
      },
      "source": [
        "In this section the data is prepared (transformed, encoded, etc) to make it suitable for a building and training machine learning model. I chose to manually remove certain extreme outliers in the dataset to produce a better fit."
      ]
    },
    {
      "cell_type": "code",
      "execution_count": 12,
      "metadata": {
        "execution": {
          "iopub.execute_input": "2021-06-10T05:34:46.010078Z",
          "iopub.status.busy": "2021-06-10T05:34:46.009641Z",
          "iopub.status.idle": "2021-06-10T05:34:46.03193Z",
          "shell.execute_reply": "2021-06-10T05:34:46.030947Z",
          "shell.execute_reply.started": "2021-06-10T05:34:46.010045Z"
        },
        "trusted": true,
        "id": "r53Q9rUXdt7g"
      },
      "outputs": [],
      "source": [
        "# remove GrLivArea outliers\n",
        "train = train[train['GrLivArea'] < 4500]"
      ]
    },
    {
      "cell_type": "code",
      "execution_count": 13,
      "metadata": {
        "execution": {
          "iopub.execute_input": "2021-06-10T05:34:46.395526Z",
          "iopub.status.busy": "2021-06-10T05:34:46.395124Z",
          "iopub.status.idle": "2021-06-10T05:34:46.402288Z",
          "shell.execute_reply": "2021-06-10T05:34:46.401239Z",
          "shell.execute_reply.started": "2021-06-10T05:34:46.39549Z"
        },
        "trusted": true,
        "id": "tgZNvQFsdt7g"
      },
      "outputs": [],
      "source": [
        "# remove GarageArea outliers\n",
        "train = train[train['GarageArea'] < 1200]"
      ]
    },
    {
      "cell_type": "code",
      "execution_count": 14,
      "metadata": {
        "execution": {
          "iopub.execute_input": "2021-06-10T05:34:46.795239Z",
          "iopub.status.busy": "2021-06-10T05:34:46.794882Z",
          "iopub.status.idle": "2021-06-10T05:34:46.814381Z",
          "shell.execute_reply": "2021-06-10T05:34:46.813079Z",
          "shell.execute_reply.started": "2021-06-10T05:34:46.795209Z"
        },
        "trusted": true,
        "colab": {
          "base_uri": "https://localhost:8080/"
        },
        "id": "pCrg3wQfdt7h",
        "outputId": "e09a6e68-3434-4172-c022-999185832bab"
      },
      "outputs": [
        {
          "output_type": "stream",
          "name": "stdout",
          "text": [
            "Alley          0.937414\n",
            "PoolQC         0.995873\n",
            "Fence          0.806740\n",
            "MiscFeature    0.963549\n",
            "dtype: float64\n"
          ]
        }
      ],
      "source": [
        "# drop columns with percentage of missing values > 80%\n",
        "train_percentage = train.isnull().sum() / train.shape[0]\n",
        "print (train_percentage[train_percentage > 0.80])\n",
        "train = train.drop(train_percentage[train_percentage > 0.80].index, axis = 1)"
      ]
    },
    {
      "cell_type": "code",
      "execution_count": 15,
      "metadata": {
        "execution": {
          "iopub.execute_input": "2021-06-10T05:34:47.530073Z",
          "iopub.status.busy": "2021-06-10T05:34:47.529726Z",
          "iopub.status.idle": "2021-06-10T05:34:47.548524Z",
          "shell.execute_reply": "2021-06-10T05:34:47.547155Z",
          "shell.execute_reply.started": "2021-06-10T05:34:47.530043Z"
        },
        "trusted": true,
        "colab": {
          "base_uri": "https://localhost:8080/"
        },
        "id": "D8rUPmMSdt7i",
        "outputId": "9e5e2b07-a1fa-4ac5-9a05-230b6927e561"
      },
      "outputs": [
        {
          "output_type": "stream",
          "name": "stdout",
          "text": [
            "Alley          0.926662\n",
            "PoolQC         0.997944\n",
            "Fence          0.801234\n",
            "MiscFeature    0.965045\n",
            "dtype: float64\n"
          ]
        }
      ],
      "source": [
        "# do the same with test data\n",
        "test_percentage = test.isnull().sum() / test.shape[0]\n",
        "print (test_percentage[test_percentage > 0.80])\n",
        "test = test.drop(test_percentage[test_percentage > 0.80].index, axis = 1)"
      ]
    },
    {
      "cell_type": "code",
      "execution_count": 16,
      "metadata": {
        "execution": {
          "iopub.execute_input": "2021-06-10T05:34:51.839334Z",
          "iopub.status.busy": "2021-06-10T05:34:51.838967Z",
          "iopub.status.idle": "2021-06-10T05:34:51.900402Z",
          "shell.execute_reply": "2021-06-10T05:34:51.899476Z",
          "shell.execute_reply.started": "2021-06-10T05:34:51.839287Z"
        },
        "trusted": true,
        "id": "U93Zs1d9dt7i"
      },
      "outputs": [],
      "source": [
        "# encode categorical variables\n",
        "le = preprocessing.LabelEncoder()\n",
        "for name in train.columns:\n",
        "    if train[name].dtypes == 'O':\n",
        "        train[name] = train[name].astype(str)\n",
        "        le.fit(train[name])\n",
        "        train[name] = le.transform(train[name])"
      ]
    },
    {
      "cell_type": "code",
      "execution_count": 17,
      "metadata": {
        "execution": {
          "iopub.execute_input": "2021-06-10T05:34:52.443511Z",
          "iopub.status.busy": "2021-06-10T05:34:52.443154Z",
          "iopub.status.idle": "2021-06-10T05:34:52.501373Z",
          "shell.execute_reply": "2021-06-10T05:34:52.500621Z",
          "shell.execute_reply.started": "2021-06-10T05:34:52.443482Z"
        },
        "trusted": true,
        "id": "1vNdEVrUdt7i"
      },
      "outputs": [],
      "source": [
        "# do the same for testset\n",
        "for name in test.columns:\n",
        "    if test[name].dtypes == 'O':\n",
        "        test[name] = test[name].astype(str)\n",
        "        le.fit(test[name])\n",
        "        test[name] = le.transform(test[name])"
      ]
    },
    {
      "cell_type": "markdown",
      "metadata": {
        "id": "Db-ECesjdt7i"
      },
      "source": [
        "There are many ways to handle NaN values, whether to fill with the mean or median, however strings cannot be averaged or median-ed. One way to fill missing values is to impute these missing values according to their probability of occuring in the dataset to avoid single-valued imputation that impacts the quality of inference and prediction."
      ]
    },
    {
      "cell_type": "code",
      "execution_count": 18,
      "metadata": {
        "execution": {
          "iopub.execute_input": "2021-06-10T05:34:56.386556Z",
          "iopub.status.busy": "2021-06-10T05:34:56.386043Z",
          "iopub.status.idle": "2021-06-10T05:34:57.032804Z",
          "shell.execute_reply": "2021-06-10T05:34:57.031773Z",
          "shell.execute_reply.started": "2021-06-10T05:34:56.386525Z"
        },
        "trusted": true,
        "id": "-eQ4pTXIdt7j"
      },
      "outputs": [],
      "source": [
        "# fill missing values based on probability of occurrence\n",
        "for column in train.columns:\n",
        "    null_vals = train.isnull().values\n",
        "    a, b = np.unique(train.values[~null_vals], return_counts = 1)\n",
        "    train.loc[train[column].isna(), column] = np.random.choice(a, train[column].isnull().sum(), p = b / b.sum())"
      ]
    },
    {
      "cell_type": "code",
      "execution_count": 19,
      "metadata": {
        "execution": {
          "iopub.execute_input": "2021-06-10T05:34:57.231756Z",
          "iopub.status.busy": "2021-06-10T05:34:57.231304Z",
          "iopub.status.idle": "2021-06-10T05:34:57.284655Z",
          "shell.execute_reply": "2021-06-10T05:34:57.283812Z",
          "shell.execute_reply.started": "2021-06-10T05:34:57.231726Z"
        },
        "trusted": true,
        "id": "BYV_w5MLdt7j"
      },
      "outputs": [],
      "source": [
        "# apply log transformation to reduce skewness over .75 by taking log(feature + 1)\n",
        "skewed_train = train.apply(lambda x: skew(x.dropna()))\n",
        "skewed_train = skewed_train[skewed_train > .75]\n",
        "train[skewed_train.index] = np.log1p(train[skewed_train.index])"
      ]
    },
    {
      "cell_type": "code",
      "execution_count": 20,
      "metadata": {
        "execution": {
          "iopub.execute_input": "2021-06-10T05:34:57.779523Z",
          "iopub.status.busy": "2021-06-10T05:34:57.779029Z",
          "iopub.status.idle": "2021-06-10T05:34:57.831712Z",
          "shell.execute_reply": "2021-06-10T05:34:57.830832Z",
          "shell.execute_reply.started": "2021-06-10T05:34:57.779491Z"
        },
        "trusted": true,
        "id": "uVk88jundt7j"
      },
      "outputs": [],
      "source": [
        "# deal with the skewness in the test data\n",
        "skewed_test = test.apply(lambda x: skew(x.dropna()))\n",
        "skewed_test = skewed_test[skewed_test > .75]\n",
        "test[skewed_test.index] = np.log1p(test[skewed_test.index])"
      ]
    },
    {
      "cell_type": "markdown",
      "metadata": {
        "id": "DdQRxwCAdt7j"
      },
      "source": [
        "# Modelling"
      ]
    },
    {
      "cell_type": "markdown",
      "metadata": {
        "id": "CVXNFnsVdt7j"
      },
      "source": [
        "I will perform a simple linear regression on the dataset to predict house prices. In order to train out the regression model, we need to first split up the data into an X list that contains the features to train on, and a y list with the target variable, in this case, the Price column."
      ]
    },
    {
      "cell_type": "code",
      "execution_count": 21,
      "metadata": {
        "execution": {
          "iopub.execute_input": "2021-06-10T05:34:59.47327Z",
          "iopub.status.busy": "2021-06-10T05:34:59.471082Z",
          "iopub.status.idle": "2021-06-10T05:34:59.481414Z",
          "shell.execute_reply": "2021-06-10T05:34:59.48053Z",
          "shell.execute_reply.started": "2021-06-10T05:34:59.473221Z"
        },
        "trusted": true,
        "id": "OEMQeVQUdt7k"
      },
      "outputs": [],
      "source": [
        "#X = train.drop(['SalePrice', 'Id'], axis = 1)\n",
        "X = train['OverallQual'].values\n",
        "X = X.reshape(-1,1)\n",
        "y = train['SalePrice']\n",
        "X_train, X_test, y_train, y_test = train_test_split(X, y, test_size = 0.2, random_state = 42)"
      ]
    },
    {
      "cell_type": "markdown",
      "metadata": {
        "id": "Pb2CCQRMdt7k"
      },
      "source": [
        "Split the data into training and testing set using scikit-learn train_test_split function. We are using 80% of the data for training and 20% for testing, train_test_split() returns four objects:\n",
        "\n",
        "- **X_train**: the subset of our features used for training\n",
        "- **X_test**: the subset which will be our ‘hold-out’ set – what we’ll use to test the model\n",
        "- **y_train**: the target variable SalePrice which corresponds to X_train\n",
        "- **y_test**: the target variable SalePrice which corresponds to X_test\n",
        "\n",
        "Now we will import the linear regression class, create an object of that class, which is the linear regression model."
      ]
    },
    {
      "cell_type": "code",
      "execution_count": 22,
      "metadata": {
        "execution": {
          "iopub.execute_input": "2021-06-10T05:35:00.031726Z",
          "iopub.status.busy": "2021-06-10T05:35:00.03122Z",
          "iopub.status.idle": "2021-06-10T05:35:00.035204Z",
          "shell.execute_reply": "2021-06-10T05:35:00.034455Z",
          "shell.execute_reply.started": "2021-06-10T05:35:00.031694Z"
        },
        "trusted": true,
        "id": "QeqhLCxBdt7l"
      },
      "outputs": [],
      "source": [
        "lr = linear_model.LinearRegression()"
      ]
    },
    {
      "cell_type": "markdown",
      "metadata": {
        "id": "xsVp68x1dt7l"
      },
      "source": [
        "Then using the fit method to \"fit\" the model to the dataset. What this does is nothing but make the regressor \"study\" the data and \"learn\" from it."
      ]
    },
    {
      "cell_type": "code",
      "execution_count": 23,
      "metadata": {
        "execution": {
          "iopub.execute_input": "2021-06-10T05:35:00.869095Z",
          "iopub.status.busy": "2021-06-10T05:35:00.868573Z",
          "iopub.status.idle": "2021-06-10T05:35:00.903471Z",
          "shell.execute_reply": "2021-06-10T05:35:00.902259Z",
          "shell.execute_reply.started": "2021-06-10T05:35:00.869061Z"
        },
        "trusted": true,
        "id": "fRb7FVHqdt7l"
      },
      "outputs": [],
      "source": [
        "model = lr.fit(X_train, y_train)"
      ]
    },
    {
      "cell_type": "markdown",
      "metadata": {
        "id": "5BPcpMIhdt7m"
      },
      "source": [
        "R-squared is the measure of how close the data are to the fitted regression line, in other words it measures the strength of the relationship between the model and the SalePrice on a convenient 0 – 100% scale."
      ]
    },
    {
      "cell_type": "code",
      "execution_count": 24,
      "metadata": {
        "execution": {
          "iopub.execute_input": "2021-06-10T05:35:02.612768Z",
          "iopub.status.busy": "2021-06-10T05:35:02.612432Z",
          "iopub.status.idle": "2021-06-10T05:35:02.622971Z",
          "shell.execute_reply": "2021-06-10T05:35:02.621882Z",
          "shell.execute_reply.started": "2021-06-10T05:35:02.61274Z"
        },
        "trusted": true,
        "id": "1iaA0USkdt7m"
      },
      "outputs": [],
      "source": [
        "# make predictions based on model\n",
        "predictions = model.predict(X_test)"
      ]
    },
    {
      "cell_type": "markdown",
      "metadata": {
        "id": "T5VilXS1dt7m"
      },
      "source": [
        "There are three primary metrics used to evaluate linear models. These are:\n",
        "* Mean absolute error (MAE)\n",
        "* Mean squared error (MSE)\n",
        "* Root mean squared error (RMSE)\n",
        "\n",
        "**MAE**: The easiest to understand. Represents average error.<br>\n",
        "**MSE**: Similar to MAE but noise is exaggerated and larger errors are \"punished\". It is harder to interpret than MAE as it's not in base units, however, it is generally more popular.<br>\n",
        "**RMSE**: Most popular metric, similar to MSE, however, the result is square rooted to make it more interpretable as it's in base units. It is recommended that RMSE be used as the primary metric to interpret your model."
      ]
    },
    {
      "cell_type": "code",
      "execution_count": 25,
      "metadata": {
        "execution": {
          "iopub.execute_input": "2021-06-10T05:35:04.355863Z",
          "iopub.status.busy": "2021-06-10T05:35:04.355491Z",
          "iopub.status.idle": "2021-06-10T05:35:04.363965Z",
          "shell.execute_reply": "2021-06-10T05:35:04.36247Z",
          "shell.execute_reply.started": "2021-06-10T05:35:04.355835Z"
        },
        "trusted": true,
        "colab": {
          "base_uri": "https://localhost:8080/"
        },
        "id": "YEWL-6-fdt7n",
        "outputId": "08290677-bd58-49c9-bfbb-e92f2bae2dcc"
      },
      "outputs": [
        {
          "output_type": "stream",
          "name": "stdout",
          "text": [
            "MAE is: 0.16737371294219575\n",
            "MSE is: 0.05040884918817278\n",
            "RMSE is: 0.22451915104991108\n"
          ]
        }
      ],
      "source": [
        "print ('MAE is:', mean_absolute_error(y_test, predictions))\n",
        "print ('MSE is:', mean_squared_error(y_test, predictions))\n",
        "print ('RMSE is:', sqrt(mean_squared_error(y_test, predictions)))"
      ]
    },
    {
      "cell_type": "code",
      "execution_count": 26,
      "metadata": {
        "execution": {
          "iopub.execute_input": "2021-06-10T05:35:05.996163Z",
          "iopub.status.busy": "2021-06-10T05:35:05.995819Z",
          "iopub.status.idle": "2021-06-10T05:35:06.176656Z",
          "shell.execute_reply": "2021-06-10T05:35:06.175454Z",
          "shell.execute_reply.started": "2021-06-10T05:35:05.996134Z"
        },
        "trusted": true,
        "colab": {
          "base_uri": "https://localhost:8080/",
          "height": 460
        },
        "id": "n8u-fepwdt7n",
        "outputId": "719219fc-68dc-40a9-ed0e-76fb7e24077f"
      },
      "outputs": [
        {
          "output_type": "execute_result",
          "data": {
            "text/plain": [
              "Text(0.5, 1.0, 'Linear Regression Model')"
            ]
          },
          "metadata": {},
          "execution_count": 26
        },
        {
          "output_type": "display_data",
          "data": {
            "image/png": "[encoded data removed]",
            "text/plain": [
              "<Figure size 720x432 with 1 Axes>"
            ]
          },
          "metadata": {}
        }
      ],
      "source": [
        "# alpha helps to show overlapping data\n",
        "plt.scatter(predictions, y_test, alpha = 0.7, color = 'b')\n",
        "plt.xlabel('Predicted Price')\n",
        "plt.ylabel('Actual Price')\n",
        "plt.title('Linear Regression Model')"
      ]
    },
    {
      "cell_type": "code",
      "source": [
        "plot = sns.regplot(y_test, predictions)\n",
        "plt.xlabel(\"Actual Price\")\n",
        "plt.ylabel(\"Predicted Price\")"
      ],
      "metadata": {
        "colab": {
          "base_uri": "https://localhost:8080/",
          "height": 496
        },
        "id": "63b0PeCDhtoS",
        "outputId": "15c668a2-f2d5-41f8-9234-130a1c4b012f"
      },
      "execution_count": 29,
      "outputs": [
        {
          "output_type": "stream",
          "name": "stderr",
          "text": [
            "/usr/local/lib/python3.7/dist-packages/seaborn/_decorators.py:43: FutureWarning: Pass the following variables as keyword args: x, y. From version 0.12, the only valid positional argument will be `data`, and passing other arguments without an explicit keyword will result in an error or misinterpretation.\n",
            "  FutureWarning\n"
          ]
        },
        {
          "output_type": "execute_result",
          "data": {
            "text/plain": [
              "Text(0, 0.5, 'Predicted Price')"
            ]
          },
          "metadata": {},
          "execution_count": 29
        },
        {
          "output_type": "display_data",
          "data": {
            "image/png": "[encoded data removed]",
            "text/plain": [
              "<Figure size 720x432 with 1 Axes>"
            ]
          },
          "metadata": {}
        }
      ]
    },
    {
      "cell_type": "markdown",
      "metadata": {
        "id": "7WajCsgadt7n"
      },
      "source": [
        "# Export Model"
      ]
    },
    {
      "cell_type": "code",
      "execution_count": 30,
      "metadata": {
        "execution": {
          "iopub.execute_input": "2021-06-03T14:21:08.240204Z",
          "iopub.status.busy": "2021-06-03T14:21:08.239824Z",
          "iopub.status.idle": "2021-06-03T14:21:08.24666Z",
          "shell.execute_reply": "2021-06-03T14:21:08.245583Z",
          "shell.execute_reply.started": "2021-06-03T14:21:08.240163Z"
        },
        "trusted": true,
        "id": "bFEZ2q2Gdt7n"
      },
      "outputs": [],
      "source": [
        "import joblib"
      ]
    },
    {
      "cell_type": "code",
      "execution_count": 31,
      "metadata": {
        "colab": {
          "base_uri": "https://localhost:8080/"
        },
        "id": "gfury1Bodt7o",
        "outputId": "283f8f39-ddee-4545-8cf5-108bc2e2285b"
      },
      "outputs": [
        {
          "output_type": "execute_result",
          "data": {
            "text/plain": [
              "['model.joblib']"
            ]
          },
          "metadata": {},
          "execution_count": 31
        }
      ],
      "source": [
        "joblib.dump(model, 'model.joblib')"
      ]
    }
  ],
  "metadata": {
    "kernelspec": {
      "display_name": "Python 3",
      "language": "python",
      "name": "python3"
    },
    "language_info": {
      "codemirror_mode": {
        "name": "ipython",
        "version": 3
      },
      "file_extension": ".py",
      "mimetype": "text/x-python",
      "name": "python",
      "nbconvert_exporter": "python",
      "pygments_lexer": "ipython3",
      "version": "3.6.4"
    },
    "colab": {
      "name": "predicting-house-prices-with-linear-regression.ipynb",
      "provenance": [],
      "collapsed_sections": [],
      "include_colab_link": true
    }
  },
  "nbformat": 4,
  "nbformat_minor": 0
}